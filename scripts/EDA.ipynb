{
 "cells": [
  {
   "cell_type": "markdown",
   "metadata": {},
   "source": [
    "# Exploratory Data Analysis"
   ]
  },
  {
   "cell_type": "markdown",
   "metadata": {},
   "source": [
    "## 1. Import Libraries"
   ]
  },
  {
   "cell_type": "code",
   "execution_count": null,
   "metadata": {},
   "outputs": [],
   "source": [
    "import pandas as pd\n",
    "import numpy as np\n",
    "import plotly.express as px"
   ]
  },
  {
   "cell_type": "markdown",
   "metadata": {},
   "source": [
    "## 2. Load Data"
   ]
  },
  {
   "cell_type": "code",
   "execution_count": null,
   "metadata": {},
   "outputs": [],
   "source": [
    "truck_arrival_df = pd.read_csv(\"../data/truck_arrival_data.csv\")\n",
    "df_xxi = pd.read_parquet(\"../data/df_XXI.parquet\")"
   ]
  },
  {
   "cell_type": "markdown",
   "metadata": {},
   "source": [
    "## 3. Analyze `truck_arrival_data.csv`"
   ]
  },
  {
   "cell_type": "code",
   "execution_count": null,
   "metadata": {},
   "outputs": [],
   "source": [
    "print(\"Truck Arrival Data Info:\")\n",
    "truck_arrival_df.info()\n",
    "print(\"Truck Arrival Data Head:\")\n",
    "display(truck_arrival_df.head())"
   ]
  },
  {
   "cell_type": "code",
   "execution_count": null,
   "metadata": {},
   "outputs": [],
   "source": [
    "print(\"Truck Arrival Data Description:\")\n",
    "display(truck_arrival_df.describe(include=\"all\"))"
   ]
  },
  {
   "cell_type": "markdown",
   "metadata": {},
   "source": [
    "### Visualize Distributions"
   ]
  },
  {
   "cell_type": "code",
   "execution_count": null,
   "metadata": {},
   "outputs": [],
   "source": [
    "# Histograms for numerical columns\n",
    "numerical_cols_truck = truck_arrival_df.select_dtypes(\n",
    "    include=np.number\n",
    ").columns.tolist()\n",
    "for col in numerical_cols_truck:\n",
    "    fig = px.histogram(\n",
    "        truck_arrival_df, x=col, title=f\"Distribution of {col}\", marginal=\"box\"\n",
    "    )\n",
    "    fig.show()"
   ]
  },
  {
   "cell_type": "code",
   "execution_count": null,
   "metadata": {},
   "outputs": [],
   "source": [
    "# Bar plots for categorical columns\n",
    "categorical_cols_truck = truck_arrival_df.select_dtypes(\n",
    "    include=[\"object\", \"category\"]\n",
    ").columns.tolist()\n",
    "for col in categorical_cols_truck:\n",
    "    counts = truck_arrival_df[col].value_counts().reset_index()\n",
    "    counts.columns = [col, \"count\"]\n",
    "    fig = px.bar(counts, y=col, x=\"count\", title=f\"Count of {col}\", orientation=\"h\")\n",
    "    fig.show()"
   ]
  },
  {
   "cell_type": "markdown",
   "metadata": {},
   "source": [
    "## 4. Analyze `df_XXI.parquet`"
   ]
  },
  {
   "cell_type": "code",
   "execution_count": null,
   "metadata": {},
   "outputs": [],
   "source": [
    "print(\"df_XXI Data Info:\")\n",
    "df_xxi.info()\n",
    "print(\"df_XXI Data Head:\")\n",
    "display(df_xxi.head())"
   ]
  },
  {
   "cell_type": "code",
   "execution_count": null,
   "metadata": {},
   "outputs": [],
   "source": [
    "print(\"df_XXI Data Description:\")\n",
    "display(df_xxi.describe(include=\"all\"))"
   ]
  },
  {
   "cell_type": "markdown",
   "metadata": {},
   "source": [
    "### Visualize Distributions"
   ]
  },
  {
   "cell_type": "code",
   "execution_count": null,
   "metadata": {},
   "outputs": [],
   "source": [
    "# Histograms for numerical columns\n",
    "numerical_cols_xxi = df_xxi.select_dtypes(include=np.number).columns.tolist()\n",
    "numerical_cols_xxi.remove(\"id\")\n",
    "for col in numerical_cols_xxi:\n",
    "    fig = px.histogram(df_xxi, x=col, title=f\"Distribution of {col}\", marginal=\"box\")\n",
    "    fig.show()"
   ]
  },
  {
   "cell_type": "code",
   "execution_count": null,
   "metadata": {},
   "outputs": [],
   "source": [
    "# Bar plots for categorical columns\n",
    "categorical_cols_xxi = df_xxi.select_dtypes(\n",
    "    include=[\"object\", \"category\"]\n",
    ").columns.tolist()\n",
    "for col in categorical_cols_xxi:\n",
    "    if df_xxi[col].nunique() > 20:\n",
    "        top_20 = df_xxi[col].value_counts().nlargest(20).reset_index()\n",
    "        top_20.columns = [col, \"count\"]\n",
    "        fig = px.bar(\n",
    "            top_20,\n",
    "            y=col,\n",
    "            x=\"count\",\n",
    "            title=f\"Top 20 most frequent values in {col}\",\n",
    "            orientation=\"h\",\n",
    "        )\n",
    "    else:\n",
    "        counts = df_xxi[col].value_counts().reset_index()\n",
    "        counts.columns = [col, \"count\"]\n",
    "        fig = px.bar(counts, y=col, x=\"count\", title=f\"Count of {col}\", orientation=\"h\")\n",
    "    fig.show()"
   ]
  }
 ],
 "metadata": {
  "kernelspec": {
   "display_name": "Python 3",
   "language": "python",
   "name": "python3"
  },
  "language_info": {
   "codemirror_mode": {
    "name": "ipython",
    "version": 3
   },
   "file_extension": ".py",
   "mimetype": "text/x-python",
   "name": "python",
   "nbconvert_exporter": "python",
   "pygments_lexer": "ipython3",
   "version": "3.10.9"
  }
 },
 "nbformat": 4,
 "nbformat_minor": 4
}
